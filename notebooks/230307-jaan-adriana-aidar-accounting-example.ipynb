{
 "cells": [
  {
   "attachments": {},
   "cell_type": "markdown",
   "metadata": {},
   "source": [
    "# plan for public bank account\n",
    "- download transactions from bank in column-separated value format\n",
    "- import these into a double entry plain text accounting software such as `beancount` \n",
    "- remove personally identifiable information from the transactions\n",
    "- publish the transactions in a public repository\n",
    "- translate the transactions from the public repository to an HTML page, onefact.org/accounting (with code at https://github.com/onefact/onefact.org/blob/main/pages/accounting.md)\n",
    "\n",
    "# references\n",
    "- example importer for utrade: https://github.com/beancount/beancount/blob/v2/examples/ingest/office/importers/utrade/utrade_csv.py\n",
    "- public bank accounts: https://ib.fio.cz/ib/transparent?a=2002470101 \n",
    "- all the beauty and the bloodshed (sacklers donating to the met; https://www.newyorker.com/magazine/2017/10/30/the-family-that-built-an-empire-of-pain)\n",
    "- FTX and effective altruism (https://www.youtube.com/watch?v=Lm0vHQYKI-Y&t=1s)"
   ]
  },
  {
   "cell_type": "code",
   "execution_count": 4,
   "metadata": {},
   "outputs": [
    {
     "ename": "ModuleNotFoundError",
     "evalue": "No module named 'money'",
     "output_type": "error",
     "traceback": [
      "\u001b[0;31m---------------------------------------------------------------------------\u001b[0m",
      "\u001b[0;31mModuleNotFoundError\u001b[0m                       Traceback (most recent call last)",
      "Cell \u001b[0;32mIn[4], line 4\u001b[0m\n\u001b[1;32m      2\u001b[0m \u001b[39mfrom\u001b[39;00m \u001b[39mdatetime\u001b[39;00m \u001b[39mimport\u001b[39;00m datetime\n\u001b[1;32m      3\u001b[0m \u001b[39mfrom\u001b[39;00m \u001b[39mdecimal\u001b[39;00m \u001b[39mimport\u001b[39;00m Decimal \u001b[39mas\u001b[39;00m D\n\u001b[0;32m----> 4\u001b[0m \u001b[39mfrom\u001b[39;00m \u001b[39mmoney\u001b[39;00m \u001b[39mimport\u001b[39;00m Money\n\u001b[1;32m      6\u001b[0m \u001b[39mdef\u001b[39;00m \u001b[39mextract\u001b[39m(\u001b[39mself\u001b[39m, file):\n\u001b[1;32m      7\u001b[0m     \u001b[39m# Open the CSV file and create directives.\u001b[39;00m\n\u001b[1;32m      8\u001b[0m     entries \u001b[39m=\u001b[39m []\n",
      "\u001b[0;31mModuleNotFoundError\u001b[0m: No module named 'money'"
     ]
    }
   ],
   "source": [
    "import csv\n",
    "from datetime import datetime\n",
    "from decimal import Decimal as D\n",
    "from money import Money\n",
    "\n",
    "def extract(self, file):\n",
    "    # Open the CSV file and create directives.\n",
    "    entries = []\n",
    "    with open(file, newline='') as infile:\n",
    "        reader = csv.DictReader(infile)\n",
    "        for index, row in enumerate(reader):\n",
    "            meta = data.new_metadata(file, index)\n",
    "            date = datetime.strptime(row['Date (UTC)'], '%m/%d/%Y').date()\n",
    "            desc = row['Description']\n",
    "            amount = Money(D(row['Amount']), 'USD')\n",
    "            units = amount if amount > 0 else Money(0, 'USD')\n",
    "            fees = amount if amount < 0 else Money(0, 'USD')\n",
    "            other = units - fees\n",
    "            entry = data.Entry(meta, date, desc, other)\n",
    "            entry.add_trade(self.account, other, fees, self.cost)\n",
    "            entries.append(entry)\n",
    "    return entries\n"
   ]
  },
  {
   "attachments": {},
   "cell_type": "markdown",
   "metadata": {},
   "source": [
    "Prompt for bing:\n",
    "\n",
    "> Hi Bing! Can you please rewrite this python code to use the csv file called \"quickbooks-export-onefact-2023-02-01--2023-02-28.csv\" and parse the correct types of transactions? The file is in QuickBooks format and the headers are \"Date (UTC),Description,Amount,Status,Source Account,Bank Description,Reference,Note\". The following imports must be used: ``` from beancount.core.number import D from beancount.core.number import ZERO from beancount.core import data from beancount.core import account from beancount.core import amount from beancount.core import position from beancount.ingest import importer ``` The python code: ``` def extract(self, file): # Open the CSV file and create directives. entries = [] index = 0 with open(file.name) as infile: for index, row in enumerate(csv.DictReader(infile)): meta = data.new_metadata(file.name, index) date = parse(row['DATE']).date() rtype = row['TYPE'] link = \"ut{0[REF #]}\".format(row) desc = \"({0[TYPE]}) {0[DESCRIPTION]}\".format(row) units = amount.Amount(D(row['AMOUNT']), self.currency) fees = amount.Amount(D(row['FEES']), self.currency) other = amount.add(units, fees) ```\n"
   ]
  },
  {
   "cell_type": "code",
   "execution_count": 11,
   "metadata": {},
   "outputs": [],
   "source": [
    "from beancount.core.number import D\n",
    "from beancount.core.number import ZERO\n",
    "from beancount.core import data\n",
    "from beancount.core import account\n",
    "from beancount.core import amount\n",
    "from beancount.core import position\n",
    "from beancount.ingest import importer\n",
    "\n",
    "def extract(file):\n",
    "        # Open the CSV file and create directives.\n",
    "        entries = []\n",
    "        index = 0\n",
    "        with open(file.name) as infile:\n",
    "            # Use csv.DictReader to read the file with headers\n",
    "            reader = csv.DictReader(infile)\n",
    "            # Loop through each row in the file\n",
    "            for index, row in enumerate(reader):\n",
    "                meta = data.new_metadata(file.name, index)\n",
    "                # Parse the date from the first column\n",
    "                date = parse(row['Date (UTC)']).date()\n",
    "                # Get the description from the second column\n",
    "                desc = row['Description']\n",
    "                # Get the amount from the third column and convert it to a decimal\n",
    "                units = amount.Amount(D(row['Amount']), self.currency)\n",
    "                # Get the status from the fourth column\n",
    "                status = row['Status']\n",
    "                # Get the source account from the fifth column\n",
    "                source = row['Source Account']\n",
    "                # Get the bank description from the sixth column\n",
    "                bank_desc = row['Bank Description']\n",
    "                # Get the reference from the seventh column\n",
    "                ref = row['Reference']\n",
    "                # Get the note from the eighth column\n",
    "                note = row['Note']\n",
    "                # Create a link from the reference\n",
    "                link = \"ut{}\".format(ref)\n",
    "                # Depending on the type of transaction, create different directives\n",
    "                if status == \"Deposit\":\n",
    "                    # Create an income directive\n",
    "                    entry = data.Transaction(\n",
    "                        meta,\n",
    "                        date,\n",
    "                        \"*\",\n",
    "                        desc,\n",
    "                        bank_desc,\n",
    "                        data.EMPTY_SET,\n",
    "                        {link},\n",
    "                        [\n",
    "                            data.Posting(source, units, None, None, None, None),\n",
    "                            data.Posting(self.income_account, -units, None, None, None, None),\n",
    "                        ],\n",
    "                    )\n",
    "                elif status == \"Withdrawal\":\n",
    "                    # Create an expense directive\n",
    "                    entry = data.Transaction(\n",
    "                        meta,\n",
    "                        date,\n",
    "                        \"*\",\n",
    "                        desc,\n",
    "                        bank_desc,\n",
    "                        data.EMPTY_SET,\n",
    "                        {link},\n",
    "                        [\n",
    "                            data.Posting(source, units, None, None, None, None),\n",
    "                            data.Posting(self.expense_account, -units, None, None, None, None),\n",
    "                        ],\n",
    "                    )\n",
    "                elif status == \"Transfer\":\n",
    "                    # Create a transfer directive\n",
    "                    entry = data.Transaction(\n",
    "                        meta,\n",
    "                        date,\n",
    "                        \"*\",\n",
    "                        desc,\n",
    "                        bank_desc,\n",
    "                        data.EMPTY_SET,\n",
    "                        {link},\n",
    "                        [\n",
    "                            data.Posting(source, units, None, None, None, None),\n",
    "                            data.Posting(self.transfer_account, -units, None, None, None, None),\n",
    "                        ],\n",
    "                    )\n",
    "                else:\n",
    "                    # Skip any other type of transaction\n",
    "                    continue\n",
    "                # Add the note as a comment to the directive\n",
    "                if note:\n",
    "                    entry.comment = note\n",
    "                # Add the directive to the list of entries\n",
    "                entries.append(entry)\n",
    "        # Return the list of entries\n",
    "        return entries\n"
   ]
  },
  {
   "cell_type": "code",
   "execution_count": 15,
   "metadata": {},
   "outputs": [
    {
     "ename": "FileNotFoundError",
     "evalue": "[Errno 2] No such file or directory: 'quickbooks-export-onefact-2023-03-01--2023-03-31.csv'",
     "output_type": "error",
     "traceback": [
      "\u001b[0;31m---------------------------------------------------------------------------\u001b[0m",
      "\u001b[0;31mFileNotFoundError\u001b[0m                         Traceback (most recent call last)",
      "Cell \u001b[0;32mIn[15], line 3\u001b[0m\n\u001b[1;32m      1\u001b[0m \u001b[39m# extract entries from a CSV file\u001b[39;00m\n\u001b[1;32m      2\u001b[0m \u001b[39mfrom\u001b[39;00m \u001b[39mpathlib\u001b[39;00m \u001b[39mimport\u001b[39;00m Path\n\u001b[0;32m----> 3\u001b[0m extract(file\u001b[39m=\u001b[39;49mPath(\u001b[39m\"\u001b[39;49m\u001b[39m./bank-statements/quickbooks-export-onefact-2023-03-01--2023-03-31.csv\u001b[39;49m\u001b[39m\"\u001b[39;49m))\n",
      "Cell \u001b[0;32mIn[11], line 13\u001b[0m, in \u001b[0;36mextract\u001b[0;34m(file)\u001b[0m\n\u001b[1;32m     11\u001b[0m entries \u001b[39m=\u001b[39m []\n\u001b[1;32m     12\u001b[0m index \u001b[39m=\u001b[39m \u001b[39m0\u001b[39m\n\u001b[0;32m---> 13\u001b[0m \u001b[39mwith\u001b[39;00m \u001b[39mopen\u001b[39;49m(file\u001b[39m.\u001b[39;49mname) \u001b[39mas\u001b[39;00m infile:\n\u001b[1;32m     14\u001b[0m     \u001b[39m# Use csv.DictReader to read the file with headers\u001b[39;00m\n\u001b[1;32m     15\u001b[0m     reader \u001b[39m=\u001b[39m csv\u001b[39m.\u001b[39mDictReader(infile)\n\u001b[1;32m     16\u001b[0m     \u001b[39m# Loop through each row in the file\u001b[39;00m\n",
      "File \u001b[0;32m~/.local/lib/python3.10/site-packages/IPython/core/interactiveshell.py:282\u001b[0m, in \u001b[0;36m_modified_open\u001b[0;34m(file, *args, **kwargs)\u001b[0m\n\u001b[1;32m    275\u001b[0m \u001b[39mif\u001b[39;00m file \u001b[39min\u001b[39;00m {\u001b[39m0\u001b[39m, \u001b[39m1\u001b[39m, \u001b[39m2\u001b[39m}:\n\u001b[1;32m    276\u001b[0m     \u001b[39mraise\u001b[39;00m \u001b[39mValueError\u001b[39;00m(\n\u001b[1;32m    277\u001b[0m         \u001b[39mf\u001b[39m\u001b[39m\"\u001b[39m\u001b[39mIPython won\u001b[39m\u001b[39m'\u001b[39m\u001b[39mt let you open fd=\u001b[39m\u001b[39m{\u001b[39;00mfile\u001b[39m}\u001b[39;00m\u001b[39m by default \u001b[39m\u001b[39m\"\u001b[39m\n\u001b[1;32m    278\u001b[0m         \u001b[39m\"\u001b[39m\u001b[39mas it is likely to crash IPython. If you know what you are doing, \u001b[39m\u001b[39m\"\u001b[39m\n\u001b[1;32m    279\u001b[0m         \u001b[39m\"\u001b[39m\u001b[39myou can use builtins\u001b[39m\u001b[39m'\u001b[39m\u001b[39m open.\u001b[39m\u001b[39m\"\u001b[39m\n\u001b[1;32m    280\u001b[0m     )\n\u001b[0;32m--> 282\u001b[0m \u001b[39mreturn\u001b[39;00m io_open(file, \u001b[39m*\u001b[39;49margs, \u001b[39m*\u001b[39;49m\u001b[39m*\u001b[39;49mkwargs)\n",
      "\u001b[0;31mFileNotFoundError\u001b[0m: [Errno 2] No such file or directory: 'quickbooks-export-onefact-2023-03-01--2023-03-31.csv'"
     ]
    }
   ],
   "source": [
    "# extract entries from a CSV file\n",
    "from pathlib import Path\n",
    "extract(file=Path(\"./bank-statements/quickbooks-export-onefact-2023-03-01--2023-03-31.csv\"))"
   ]
  },
  {
   "cell_type": "code",
   "execution_count": null,
   "metadata": {},
   "outputs": [],
   "source": []
  }
 ],
 "metadata": {
  "kernelspec": {
   "display_name": "base",
   "language": "python",
   "name": "python3"
  },
  "language_info": {
   "codemirror_mode": {
    "name": "ipython",
    "version": 3
   },
   "file_extension": ".py",
   "mimetype": "text/x-python",
   "name": "python",
   "nbconvert_exporter": "python",
   "pygments_lexer": "ipython3",
   "version": "3.10.4"
  },
  "orig_nbformat": 4
 },
 "nbformat": 4,
 "nbformat_minor": 2
}
